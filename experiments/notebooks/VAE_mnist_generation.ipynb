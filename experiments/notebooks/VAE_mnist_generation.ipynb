{
 "cells": [
  {
   "cell_type": "markdown",
   "metadata": {},
   "source": [
    "# VAE MNIST Generation\n",
    "\n",
    "This notebook demonstrates how to use the trained VAE model to generate new MNIST-like digits."
   ]
  },
  {
   "cell_type": "code",
   "execution_count": null,
   "metadata": {},
   "outputs": [],
   "source": [
    "import sys\n",
    "sys.path.append('../../')\n",
    "\n",
    "import torch\n",
    "import matplotlib.pyplot as plt\n",
    "from src.models import BasicVAE\n",
    "from src.generate_images import generate_images, plot_generated_images"
   ]
  },
  {
   "cell_type": "code",
   "execution_count": null,
   "metadata": {},
   "outputs": [],
   "source": [
    "# Set up device and load the trained model\n",
    "device = torch.device(\"cuda\" if torch.cuda.is_available() else \"cpu\")\n",
    "model = BasicVAE(input_dim=784, hidden_dim=400, latent_dim=20).to(device)\n",
    "model.load_state_dict(torch.load('../../vae_model.pth'))"
   ]
  },
  {
   "cell_type": "code",
   "execution_count": null,
   "metadata": {},
   "outputs": [],
   "source": [
    "# Generate new images\n",
    "num_images = 16\n",
    "generated_images = generate_images(model, num_images, device)\n",
    "\n",
    "# Plot the generated images\n",
    "plot_generated_images(generated_images, 4, 4)"
   ]
  },
  {
   "cell_type": "markdown",
   "metadata": {},
   "source": [
    "## Latent Space Visualization\n",
    "\n",
    "Let's visualize how the latent space affects the generated images."
   ]
  },
  {
   "cell_type": "code",
   "execution_count": null,
   "metadata": {},
   "outputs": [],
   "source": [
    "def interpolate_latent_space(model, start, end, steps=10):\n",
    "    interpolation = torch.zeros((steps, model.fc_mu.out_features))\n",
    "    for i, alpha in enumerate(torch.linspace(0, 1, steps)):\n",
    "        interpolation[i] = start * (1 - alpha) + end * alpha\n",
    "    \n",
    "    with torch.no_grad():\n",
    "        return model.decode(interpolation.to(device)).cpu()\n",
    "\n",
    "# Generate two random points in latent space\n",
    "z1 = torch.randn(1, model.fc_mu.out_features)\n",
    "z2 = torch.randn(1, model.fc_mu.out_features)\n",
    "\n",
    "# Interpolate between these two points\n",
    "interpolated_images = interpolate_latent_space(model, z1, z2)\n",
    "\n",
    "# Plot the interpolation\n",
    "fig, axes = plt.subplots(1, 10, figsize=(20, 2))\n",
    "for i, ax in enumerate(axes):\n",
    "    ax.imshow(interpolated_images[i].view(28, 28), cmap='gray')\n",
    "    ax.axis('off')\n",
    "plt.show()"
   ]
  }
 ],
 "metadata": {
  "kernelspec": {
   "display_name": "Python 3",
   "language": "python",
   "name": "python3"
  },
  "language_info": {
   "codemirror_mode": {
    "name": "ipython",
    "version": 3
   },
   "file_extension": ".py",
   "mimetype": "text/x-python",
   "name": "python",
   "nbconvert_exporter": "python",
   "pygments_lexer": "ipython3",
   "version": "3.8.5"
  }
 },
 "nbformat": 4,
 "nbformat_minor": 4
}
